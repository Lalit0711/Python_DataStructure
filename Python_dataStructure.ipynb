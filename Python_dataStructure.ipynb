{
  "nbformat": 4,
  "nbformat_minor": 0,
  "metadata": {
    "colab": {
      "provenance": []
    },
    "kernelspec": {
      "name": "python3",
      "display_name": "Python 3"
    },
    "language_info": {
      "name": "python"
    }
  },
  "cells": [
    {
      "cell_type": "markdown",
      "source": [
        "# Python - Data Structure"
      ],
      "metadata": {
        "id": "hByUDA2CttYW"
      }
    },
    {
      "cell_type": "markdown",
      "source": [
        "**Q1.** What are data structures, and why are they important?\n",
        " - Data structures in Python are specialized formats for organizing, storing, and managing data efficiently. They are fundamental building blocks for writing efficient programs and handling data in a way that enables easy access and modification.\n",
        "- **Why Are Data Structures Important?**\n",
        "  \n",
        "\n",
        " 1.   Efficient Data Management-\n",
        "\n",
        " Choose the right structure to reduce memory use and improve performance.\n",
        " 2.  Faster Access and Modification-\n",
        "\n",
        " Dictionaries provide fast lookups; lists allow quick iteration.\n",
        "\n",
        "3. Clean Code-\n",
        "\n",
        " Structured data improves readability and maintainability.\n",
        "\n",
        "4. Problem Solving-\n",
        "\n",
        " Many algorithms require specific data structures (e.g., stacks, queues, graphs, trees).\n",
        "\n",
        "5. Real-world Application-\n",
        "\n",
        " Useful in tasks like database indexing, caching, data analysis, and AI/ML.\n",
        "\n",
        "**Q2.** Explain the difference between mutable and immutable data types with examples.\n",
        "\n",
        "   In Python, mutable and immutable refer to whether an object can be changed after it has been created.\n",
        " - Mutable Data Types-    \n",
        "\n",
        " Definition: Can be changed after creation.\n",
        "  \n",
        "  Behavior: Operations like adding, removing, or changing elements modify the object itself.\n",
        "\n",
        " Memory Address: Stays the same when modified.\n",
        "\n",
        " Examples: list,dict,set.\n",
        "\n",
        "       my_list = [1, 2, 3]\n",
        "       print(id(my_list))\n",
        "\n",
        "       my_list.append(4)\n",
        "        print(my_list)     #Output: [1, 2, 3, 4]\n",
        "        print(id(my_list))\n",
        "\n",
        " -Immutable Data Types-\n",
        "\n",
        " Definition: Cannot be changed after creation.\n",
        "\n",
        " Behavior: Any operation that seems to modify it creates a new object.\n",
        "\n",
        " Memory Address: Changes when modified.\n",
        "\n",
        " Examples: int, float, str, tuple, bool\n",
        "\n",
        "      my_str = \"hello\"\n",
        "      print(id(my_str))    \n",
        "      my_str += \" world\"    \n",
        "      print(my_str)         \n",
        "      print(id(my_str))    \n",
        "\n",
        "\n",
        "**Q3.** What are the main differences between lists and tuples in Python?\n",
        " - Lists and tuples are both fundamental data structures in Python, serving as ordered collections of items. However, they differ significantly in their mutability and use cases.\n",
        "\n",
        "  1. Mutability:\n",
        "Lists are mutable, meaning their elements can be modified after creation. Elements can be added, removed, or changed. Tuples, on the other hand, are immutable; once created, their contents cannot be altered.\n",
        "\n",
        "  2. Syntax:\n",
        "Lists are defined using square brackets [], while tuples are defined using parentheses ().\n",
        "\n",
        "  3. Use Cases:\n",
        "Lists are suitable for collections that require modification, such as storing a sequence of tasks or managing a dynamic set of data. Tuples are ideal for representing fixed collections, like coordinates, database records, or settings, where data integrity is paramount.\n",
        "\n",
        "  4. Performance:\n",
        "Tuples are generally more memory-efficient and faster than lists due to their immutability. This makes them suitable for situations where performance is critical, such as in frequently accessed data structures.\n",
        "\n",
        "  5. Methods:\n",
        "Lists have more built-in methods for manipulation (e.g., append(), insert(), remove(), sort()) compared to tuples, which have limited methods due to their immutability (e.g., count(), index()).\n",
        "\n",
        "\n",
        "Q4. Describe how dictionaries store data.\n",
        " - Python dictionaries are implemented as hash tables, which provide very fast access to data.\n",
        "\n",
        "   1. Hashing the Key:-\n",
        "\n",
        " Every key is passed through a hash function to generate a hash value (an integer).\n",
        "\n",
        " This hash value determines where the key-value pair is stored in memory.\n",
        "\n",
        "  2. Handling Collisions:\n",
        "\n",
        " Sometimes, two keys may produce the same hash (called a collision).\n",
        "\n",
        " Python handles this using methods like open addressing or chaining.\n",
        "\n",
        "  3.  Retrieval:\n",
        "\n",
        " When accessing a value (e.g., my_dict[\"name\"]), Python hashes the key, finds the correct slot, and returns the associated value.\n",
        "\n",
        "Q5. Why might you use a set instead of a list in Python?\n",
        "\n",
        " - Sets and lists serve different purposes in Python, leading to distinct use cases. Sets are particularly useful when uniqueness and fast membership testing are crucial, while lists are better suited for ordered collections that may contain duplicates.\n",
        "\n",
        "1. Ensuring Uniqueness:\n",
        "Sets, by definition, do not allow duplicate elements. If the goal is to store only unique items, adding an element already present in the set has no effect.\n",
        "2. Efficient Membership Testing:\n",
        "Checking if an element exists within a set is significantly faster than doing the same in a list. Sets are implemented using hash tables, allowing for near-constant time complexity for membership checks (O(1)), while lists require linear search (O(n)).\n",
        "3.Removing Duplicates:\n",
        "Converting a list to a set is an efficient way to eliminate duplicate values.\n",
        "\n",
        "Q6. What is a string in Python, and how is it different from a list?\n",
        " - In Python, a string is a sequence of characters enclosed in quotes (single, double, or triple). It is used to represent text, such as words or sentences. A list, on the other hand, is a collection of items (which can be of different types) enclosed in square brackets. While both strings and lists are sequences and support indexing, slicing, and iteration, the key difference is that strings are immutable (they cannot be changed after creation), whereas lists are mutable (you can add, remove, or change elements). Also, strings are specifically for text, while lists can store any kind of data.\n",
        "\n",
        "Q7. How do tuples ensure data integrity in Python?\n",
        " - Tuples ensure data integrity in Python by being immutable, meaning their contents cannot be changed after creation. Once a tuple is defined, you cannot add, remove, or modify its elements. This immutability helps protect the data from accidental changes, making tuples ideal for storing fixed or constant data. Because of this, tuples are often used when you want to ensure that the data stays safe, predictable, and reliable throughout the program. Additionally, their immutability allows them to be used as keys in dictionaries or elements in sets, which also rely on data integrity.\n",
        "\n",
        "Q8. What is a hash table, and how does it relate to dictionaries in Python?\n",
        " - A hash table is a data structure that stores key-value pairs, where each key is unique and the position (index) for each key is determined by a hash function. This function takes the key as input and generates an integer, known as the hash value or hash code, which corresponds to the index in the hash table where the value is stored. Hash tables are designed for efficient insertion, deletion, and search operations, typically achieving an average time complexity of O(1).dictionaries are implemented using hash tables. When a key-value pair is added to a dictionary, Python calculates the hash value of the key and uses it to determine the storage location.\n",
        "\n",
        "Q9.Can lists contain different data types in Python?\n",
        "\n",
        " - Yes, lists can contain different data types in Python. A list is a flexible, ordered collection that can hold elements of any type — such as integers, strings, floats, booleans, other lists, or even custom objects — all in the same list.\n",
        "\n",
        "Q10.Explain why strings are immutable in Python?\n",
        " - Strings are immutable in Python to ensure data integrity, security, and performance. Once a string is created, it cannot be changed — any operation that modifies a string actually creates a new string instead of altering the original.\n",
        "\n",
        " Reasons for String Immutability:\n",
        "\n",
        " 1. memory Efficiency: Immutable strings can be interned (shared in memory), saving space and improving performance.\n",
        "\n",
        " 2. Hashing & Dictionary Keys: Since strings can't change, they are safe to use as dictionary keys or set elements, which rely on consistent hash values.\n",
        "\n",
        " 3. Thread Safety: In multi-threaded programs, immutability ensures that strings aren’t unexpectedly changed by another thread.\n",
        "\n",
        " 4. Predictability: Code becomes more reliable because you know that once a string is created, it won’t be altered elsewhere in the program.\n",
        "\n",
        "Q11. What advantages do dictionaries offer over lists for certain tasks?\n",
        " - Dictionaries offer significant advantages over lists when you need to **associate values with unique keys** rather than just positions. They provide **fast, efficient lookups, insertions, and deletions** based on keys, typically in constant time (`O(1)`), while lists require searching through elements, which can be slower (`O(n)`). This makes dictionaries ideal for tasks like **mapping data (e.g., names to phone numbers), counting occurrences, or grouping items** where quick access by a specific identifier is crucial. Unlike lists, dictionaries don’t rely on order but on key-value relationships, making them more suitable for many real-world applications.\n",
        "\n",
        "Q12. Describe a scenario where using a tuple would be preferable over a list?\n",
        "\n",
        " - A scenario where using a tuple would be preferable over a list is when you need to store a fixed set of values that should not change throughout the program, such as the coordinates of a point in 2D space (x, y). Since tuples are immutable, using them prevents accidental modification of these values, ensuring data integrity. Additionally, because tuples are hashable, they can be used as keys in dictionaries or elements in sets, which lists cannot. This makes tuples ideal for representing fixed collections of related data that need to remain constant.\n",
        "\n",
        "Q13.How do sets handle duplicate values in Python?\n",
        " - In Python, sets automatically eliminate duplicate values. When you add elements to a set, any duplicates are ignored, so the set only keeps one copy of each unique item. This behavior ensures that all elements in a set are unique without you needing to manually check or remove duplicates. For example, if you create a set from a list containing repeated values, the resulting set will contain only one instance of each value.\n",
        "\n",
        "Q14. How does the “in” keyword work differently for lists and dictionaries?\n",
        " - The in keyword in Python checks for membership, but it behaves differently for lists and dictionaries:\n",
        "\n",
        " For lists, in checks whether a value exists anywhere in the list by scanning each element until it finds a match. This means it does a linear search, which can be slower for large lists.\n",
        "\n",
        " For dictionaries, in checks whether a key exists in the dictionary, not the values. Since dictionaries use a hash table internally, this lookup is very fast—usually constant time (O(1)).\n",
        "\n",
        "Q15. Can you modify the elements of a tuple? Explain why or why not?\n",
        " - No, you cannot modify the elements of a tuple because tuples are immutable in Python. This means once a tuple is created, its contents cannot be changed — you can’t add, remove, or alter any of its elements. This immutability is by design to ensure data integrity and allows tuples to be used as reliable keys in dictionaries or elements in sets. If you need a similar sequence that can be changed, you should use a list instead.\n",
        "\n",
        "Q16. What is a nested dictionary, and give an example of its use case?\n",
        " - A nested dictionary is a dictionary where some of the values are themselves dictionaries. This allows you to represent more complex, hierarchical data structures with multiple levels of key-value pairs.\n",
        "\n",
        " Example use case:\n",
        "Suppose you want to store information about students and their grades in different subjects. A nested dictionary lets you organize this data clearly:\n",
        "\n",
        "       students = {\n",
        "       \"Alice\": {\"Math\": 90, \"Science\": 85},\n",
        "       \"Bob\": {\"Math\": 78, \"History\": 88},\n",
        "       \"Charlie\": {\"Science\": 92, \"History\": 80}\n",
        "        }\n",
        "  \n",
        "Q17. Describe the time complexity of accessing elements in a dictionary.  \n",
        " - The time complexity of accessing elements in a dictionary in Python is O(1) on average, meaning it takes constant time regardless of the size of the dictionary.\n",
        "\n",
        " This efficiency comes from the dictionary's underlying data structure — a hash table. When you access an element using a key (e.g., my_dict[\"key\"]), Python hashes the key and directly locates the value without needing to search through the entire dictionary.\n",
        "\n",
        "Q18. In what situations are lists preferred over dictionaries?\n",
        " - Lists are preferred over dictionaries when:\n",
        "\n",
        "  Order matters – Lists maintain the order of elements, so they’re ideal when the position of items is important, such as in sequences, ordered data, or iteration in a specific order.\n",
        "\n",
        "  You don’t need key-value pairs – If you're just storing a collection of values without needing to label them (like numbers, names, or items), a list is simpler and more appropriate.\n",
        "\n",
        "  You need to store duplicates – Lists allow duplicate values, which is useful when repetition is meaningful (e.g., tracking all inputs or results).\n",
        "\n",
        "  Index-based access – If you want to access elements by their position (e.g., my_list[0]), lists are the natural choice.\n",
        "\n",
        "Q19. Why are dictionaries considered unordered, and how does that affect data retrieval?\n",
        " - Dictionaries in Python were traditionally considered unordered because, before Python 3.7, they did not preserve the insertion order of key-value pairs. This meant that when you iterated over a dictionary, the order in which items were returned could be unpredictable.\n",
        "\n",
        " However, since Python 3.7, dictionaries do preserve insertion order as part of the language specification. This means that items are returned in the order they were added when iterating over the dictionary. Still, dictionaries are primarily designed for fast key-based access, not ordered data storage.\n",
        "\n",
        " How it affects data retrieval:\n",
        "\n",
        " Key-based access (dict[key]) is always fast and unaffected by order.\n",
        "\n",
        " Order-based operations (like getting the \"first\" or \"last\" item) are still not what dictionaries are built for — lists are better for that.\n",
        "\n",
        " If you rely on order in older Python versions, you must use collections.OrderedDict.  \n",
        "\n",
        "Q20.  Explain the difference between a list and a dictionary in terms of data retrieval.\n",
        "  \n",
        " -  The main difference between a list and a dictionary in terms of data retrieval is how elements are accessed:\n",
        "\n",
        "  1. In a list, data is retrieved using integer indices that represent the position of elements. For example, my_list[0] returns the first item. This means you need to know the position of the item to retrieve it.\n",
        "\n",
        "  2. In a dictionary, data is retrieved using keys, not positions. For example, my_dict[\"name\"] returns the value associated with the key \"name\". This allows for faster and more meaningful access, especially when working with labeled or structured data.\n",
        "\n"
      ],
      "metadata": {
        "id": "X9CPVGY8uswv"
      }
    },
    {
      "cell_type": "markdown",
      "source": [
        "# PRACTICAL QUESTIONS"
      ],
      "metadata": {
        "id": "kxw2wCVxkcrF"
      }
    },
    {
      "cell_type": "code",
      "source": [
        "# Q1. Write a code to create a string with your name and print it.\n",
        "name = \"John Wick\"\n",
        "print(name)"
      ],
      "metadata": {
        "colab": {
          "base_uri": "https://localhost:8080/"
        },
        "id": "j2v5D0ol8U7I",
        "outputId": "32903ec2-7fb9-4f93-f1b6-241be9cffe67"
      },
      "execution_count": null,
      "outputs": [
        {
          "output_type": "stream",
          "name": "stdout",
          "text": [
            "John Wick\n"
          ]
        }
      ]
    },
    {
      "cell_type": "code",
      "source": [
        "# Q2. Write a code to find the length of the string \"Hello World\"\n",
        "str = \"Hello world\"\n",
        "print(len(str))"
      ],
      "metadata": {
        "colab": {
          "base_uri": "https://localhost:8080/"
        },
        "id": "wMqcjT1CK_cO",
        "outputId": "11722c57-db1c-4b5b-f157-2d3bec0cfab1"
      },
      "execution_count": null,
      "outputs": [
        {
          "output_type": "stream",
          "name": "stdout",
          "text": [
            "11\n"
          ]
        }
      ]
    },
    {
      "cell_type": "code",
      "source": [
        "# Q3. Write a code to slice the first 3 characters from the string \"Python Programming\"\n",
        "str = \"python programming\"\n",
        "print(str[0:3])"
      ],
      "metadata": {
        "colab": {
          "base_uri": "https://localhost:8080/"
        },
        "id": "3Rbi56CaLkiw",
        "outputId": "dff58024-c12e-46e0-9a32-0bf1419eb295"
      },
      "execution_count": null,
      "outputs": [
        {
          "output_type": "stream",
          "name": "stdout",
          "text": [
            "pyt\n"
          ]
        }
      ]
    },
    {
      "cell_type": "code",
      "source": [
        "# Q4. Write a code to convert the string \"hello\" to uppercase\n",
        "text = \"hello\"\n",
        "uppercase_text = text.upper()\n",
        "print(uppercase_text)\n"
      ],
      "metadata": {
        "colab": {
          "base_uri": "https://localhost:8080/"
        },
        "id": "wgnx-LniMbI8",
        "outputId": "4cc87ede-250c-451b-f053-89ae0e3000e0"
      },
      "execution_count": null,
      "outputs": [
        {
          "output_type": "stream",
          "name": "stdout",
          "text": [
            "HELLO\n"
          ]
        }
      ]
    },
    {
      "cell_type": "code",
      "source": [
        "# Q5. Write a code to replace the word \"apple\" with \"orange\" in the string \"I like apple\"\n",
        "text = \"I like apple\"\n",
        "new_text= text.replace(\"apple\",\"orange\")\n",
        "print(new_text)"
      ],
      "metadata": {
        "colab": {
          "base_uri": "https://localhost:8080/"
        },
        "id": "dLtPsuzmNkgd",
        "outputId": "5fb23070-2eb4-49ae-e0a1-d50eb5707547"
      },
      "execution_count": null,
      "outputs": [
        {
          "output_type": "stream",
          "name": "stdout",
          "text": [
            "I like orange\n"
          ]
        }
      ]
    },
    {
      "cell_type": "code",
      "source": [
        "# Q6. Write a code to create a list with numbers 1 to 5 and print it.\n",
        "list= [1,2,3,4,5]\n",
        "print(list)"
      ],
      "metadata": {
        "colab": {
          "base_uri": "https://localhost:8080/"
        },
        "id": "aXtX8M8COjT1",
        "outputId": "3a33f194-b4f1-4b0d-fcad-2a29ccc6797f"
      },
      "execution_count": null,
      "outputs": [
        {
          "output_type": "stream",
          "name": "stdout",
          "text": [
            "[1, 2, 3, 4, 5]\n"
          ]
        }
      ]
    },
    {
      "cell_type": "code",
      "source": [
        "# Q7. Write a code to append the number 10 to the list [1, 2, 3, 4]\n",
        "list= [1,2,3,4]\n",
        "list.append(10)\n",
        "print(list)"
      ],
      "metadata": {
        "colab": {
          "base_uri": "https://localhost:8080/"
        },
        "id": "dOB49t4BO6Cw",
        "outputId": "30eb47b2-be1e-4ed3-cebf-940a574be3ce"
      },
      "execution_count": null,
      "outputs": [
        {
          "output_type": "stream",
          "name": "stdout",
          "text": [
            "[1, 2, 3, 4, 10]\n"
          ]
        }
      ]
    },
    {
      "cell_type": "code",
      "source": [
        "# Q8. Write a code to remove the number 3 from the list [1, 2, 3, 4, 5]\n",
        "list= [1,2,3,4,5]\n",
        "list.remove(3)\n",
        "print(list)"
      ],
      "metadata": {
        "colab": {
          "base_uri": "https://localhost:8080/"
        },
        "id": "rNG3Bb8hPiGm",
        "outputId": "29483ce5-983e-4a3a-9344-2a85162a0809"
      },
      "execution_count": null,
      "outputs": [
        {
          "output_type": "stream",
          "name": "stdout",
          "text": [
            "[1, 2, 4, 5]\n"
          ]
        }
      ]
    },
    {
      "cell_type": "code",
      "source": [
        "# Q9. Write a code to access the second element in the list ['a', 'b', 'c', 'd']\n",
        "list= ['a','b','c','d']\n",
        "print(list[1])"
      ],
      "metadata": {
        "colab": {
          "base_uri": "https://localhost:8080/"
        },
        "id": "ABpz7oHHQFMy",
        "outputId": "086cfa53-0cb2-453e-8e18-f0dd0fbeac29"
      },
      "execution_count": null,
      "outputs": [
        {
          "output_type": "stream",
          "name": "stdout",
          "text": [
            "b\n"
          ]
        }
      ]
    },
    {
      "cell_type": "code",
      "source": [
        "# Q10. Write a code to reverse the list [10, 20, 30, 40, 50].\n",
        "list= [10,20,30,40,50]\n",
        "print(list[::-1])"
      ],
      "metadata": {
        "colab": {
          "base_uri": "https://localhost:8080/"
        },
        "id": "IYmk_jf3QztY",
        "outputId": "847c7e8b-507e-4e6a-82c7-2021e5c2b3ca"
      },
      "execution_count": null,
      "outputs": [
        {
          "output_type": "stream",
          "name": "stdout",
          "text": [
            "[50, 40, 30, 20, 10]\n"
          ]
        }
      ]
    },
    {
      "cell_type": "code",
      "source": [
        "# Q11. Write a code to create a tuple with the elements 100, 200, 300 and print it\n",
        "tuple= (100,200,300)\n",
        "print(tuple)"
      ],
      "metadata": {
        "colab": {
          "base_uri": "https://localhost:8080/"
        },
        "id": "9WiHGdZWSVJ1",
        "outputId": "890d24bf-703d-4c61-8b0d-367536fff581"
      },
      "execution_count": null,
      "outputs": [
        {
          "output_type": "stream",
          "name": "stdout",
          "text": [
            "(100, 200, 300)\n"
          ]
        }
      ]
    },
    {
      "cell_type": "code",
      "source": [
        "# Q12.  Write a code to access the second-to-last element of the tuple ('red', 'green', 'blue', 'yellow').\n",
        "tuple= ('red','green','blue','yellow')\n",
        "print(tuple[-2])"
      ],
      "metadata": {
        "colab": {
          "base_uri": "https://localhost:8080/"
        },
        "id": "v94ZKidBTE1c",
        "outputId": "3f73b9e7-9029-4335-b0e6-8e08c63ee9b2"
      },
      "execution_count": null,
      "outputs": [
        {
          "output_type": "stream",
          "name": "stdout",
          "text": [
            "blue\n"
          ]
        }
      ]
    },
    {
      "cell_type": "code",
      "source": [
        "# Q13. Write a code to find the minimum number in the tuple (10, 20, 5, 15).\n",
        "tuple= (10,20,5,15)\n",
        "print(min(tuple))"
      ],
      "metadata": {
        "colab": {
          "base_uri": "https://localhost:8080/"
        },
        "id": "cWkBr8pbT4y9",
        "outputId": "4abbb365-9274-41c5-885a-9786f0b2e719"
      },
      "execution_count": null,
      "outputs": [
        {
          "output_type": "stream",
          "name": "stdout",
          "text": [
            "5\n"
          ]
        }
      ]
    },
    {
      "cell_type": "code",
      "source": [
        "# Q14. Write a code to find the index of the element \"cat\" in the tuple ('dog', 'cat', 'rabbit').\n",
        "tuple= ('dog','cat','rabbit')\n",
        "print(tuple.index('cat'))\n"
      ],
      "metadata": {
        "colab": {
          "base_uri": "https://localhost:8080/"
        },
        "id": "2qiH1GBlUsia",
        "outputId": "1f742d91-4676-444d-8b46-0e8e88b2272e"
      },
      "execution_count": null,
      "outputs": [
        {
          "output_type": "stream",
          "name": "stdout",
          "text": [
            "1\n"
          ]
        }
      ]
    },
    {
      "cell_type": "code",
      "source": [
        "# Q15. Write a code to create a tuple containing three different fruits and check if \"kiwi\" is in it.\n",
        "tuple= ('apple','banana','kiwi')\n",
        "print('kiwi' in tuple)\n"
      ],
      "metadata": {
        "colab": {
          "base_uri": "https://localhost:8080/"
        },
        "id": "JKTcTwX8Vww6",
        "outputId": "8f7de499-be7f-46c9-fb75-1d8cdb378830"
      },
      "execution_count": null,
      "outputs": [
        {
          "output_type": "stream",
          "name": "stdout",
          "text": [
            "True\n"
          ]
        }
      ]
    },
    {
      "cell_type": "code",
      "source": [
        "# Q16.  Write a code to create a set with the elements 'a', 'b', 'c' and print it.\n",
        "set= {'a','b','c'}\n",
        "print(set)\n"
      ],
      "metadata": {
        "colab": {
          "base_uri": "https://localhost:8080/"
        },
        "id": "9BTN5FclWv6T",
        "outputId": "111a859f-baa5-4087-c550-f8ef79c1048a"
      },
      "execution_count": null,
      "outputs": [
        {
          "output_type": "stream",
          "name": "stdout",
          "text": [
            "{'b', 'a', 'c'}\n"
          ]
        }
      ]
    },
    {
      "cell_type": "code",
      "source": [
        "# Q17. Write a code to clear all elements from the set {1, 2, 3, 4, 5}.\n",
        "set= {1, 2, 3, 4, 5}\n",
        "set.clear()\n",
        "print(set)"
      ],
      "metadata": {
        "colab": {
          "base_uri": "https://localhost:8080/"
        },
        "id": "JWv9yBWOXEHj",
        "outputId": "5bb83e20-9b29-4dd3-fdcf-c653ca062082"
      },
      "execution_count": null,
      "outputs": [
        {
          "output_type": "stream",
          "name": "stdout",
          "text": [
            "set()\n"
          ]
        }
      ]
    },
    {
      "cell_type": "code",
      "source": [
        "# Q18. Write a code to remove the element 4 from the set {1, 2, 3, 4}.\n",
        "set= {1, 2, 3, 4}\n",
        "set.remove(4)\n",
        "print(set)"
      ],
      "metadata": {
        "colab": {
          "base_uri": "https://localhost:8080/"
        },
        "id": "TXDfTFoBXfMn",
        "outputId": "630c98e0-8d59-48f5-8371-056dc504907f"
      },
      "execution_count": null,
      "outputs": [
        {
          "output_type": "stream",
          "name": "stdout",
          "text": [
            "{1, 2, 3}\n"
          ]
        }
      ]
    },
    {
      "cell_type": "code",
      "source": [
        "# Q19.  Write a code to find the union of two sets {1, 2, 3} and {3, 4, 5}.\n",
        "set1 = {1, 2, 3}\n",
        "set2 = {3, 4, 5}\n",
        "\n",
        "union_set = set1 | set2\n",
        "print(union_set)\n"
      ],
      "metadata": {
        "colab": {
          "base_uri": "https://localhost:8080/"
        },
        "id": "IOvlgiTjX7lO",
        "outputId": "d834e669-9f7d-4b7e-9f9a-f43cdc1d54f3"
      },
      "execution_count": null,
      "outputs": [
        {
          "output_type": "stream",
          "name": "stdout",
          "text": [
            "{1, 2, 3, 4, 5}\n"
          ]
        }
      ]
    },
    {
      "cell_type": "code",
      "source": [
        "# Q20. Write a code to find the intersection of two sets {1, 2, 3} and {2, 3, 4}.\n",
        "set1 = {1, 2, 3}\n",
        "set2 = {2, 3, 4}\n",
        "\n",
        "intersection_set = set1 & set2\n",
        "print(intersection_set)\n"
      ],
      "metadata": {
        "colab": {
          "base_uri": "https://localhost:8080/"
        },
        "id": "sqjIH3OBYaWf",
        "outputId": "fb5bd8f2-c437-45ad-893e-0ee98435cd0a"
      },
      "execution_count": null,
      "outputs": [
        {
          "output_type": "stream",
          "name": "stdout",
          "text": [
            "{2, 3}\n"
          ]
        }
      ]
    },
    {
      "cell_type": "code",
      "source": [
        "# Q21. Write a code to create a dictionary with the keys \"name\", \"age\", and \"city\", and print it.\n",
        "person = {\n",
        "    \"name\": \"Alice\",\n",
        "    \"age\": 25,\n",
        "    \"city\": \"New York\"\n",
        "}\n",
        "\n",
        "print(person)\n"
      ],
      "metadata": {
        "colab": {
          "base_uri": "https://localhost:8080/"
        },
        "id": "FvXRy_sQZM7P",
        "outputId": "b786fab4-b8b5-4d65-a57e-80496211367f"
      },
      "execution_count": null,
      "outputs": [
        {
          "output_type": "stream",
          "name": "stdout",
          "text": [
            "{'name': 'Alice', 'age': 25, 'city': 'New York'}\n"
          ]
        }
      ]
    },
    {
      "cell_type": "code",
      "source": [
        "# Q22. Write a code to add a new key-value pair \"country\": \"USA\" to the dictionary {'name': 'John', 'age': 25}.\\\n",
        "person ={\n",
        "    \"name\": \"john\",\n",
        "    \"age\": 25\n",
        "}\n",
        "person[\"country\"]= \"USA\"\n",
        "print(person)"
      ],
      "metadata": {
        "colab": {
          "base_uri": "https://localhost:8080/"
        },
        "id": "af2YpxcsZ6BM",
        "outputId": "cd4878b2-1282-4a81-cb8c-38e02d1cc6a3"
      },
      "execution_count": null,
      "outputs": [
        {
          "output_type": "stream",
          "name": "stdout",
          "text": [
            "{'name': 'john', 'age': 25, 'country': 'USA'}\n"
          ]
        }
      ]
    },
    {
      "cell_type": "code",
      "source": [
        "# Q23. Write a code to access the value associated with the key \"name\" in the dictionary {'name': 'Alice', 'age': 30}.\n",
        "person = {'name': 'Alice', 'age': 30}\n",
        "print(person[\"name\"])\n"
      ],
      "metadata": {
        "colab": {
          "base_uri": "https://localhost:8080/"
        },
        "id": "1SpFsTfmcNYA",
        "outputId": "da705b76-e9fe-483b-ba69-7ffdc293a9c2"
      },
      "execution_count": null,
      "outputs": [
        {
          "output_type": "stream",
          "name": "stdout",
          "text": [
            "Alice\n"
          ]
        }
      ]
    },
    {
      "cell_type": "code",
      "source": [
        "# Q24.  Write a code to remove the key \"age\" from the dictionary {'name': 'Bob', 'age': 22, 'city': 'New York'}.\n",
        "person = {'name': 'Bob', 'age': 22, 'city': 'New York'}\n",
        "del person[\"age\"]\n",
        "print(person)"
      ],
      "metadata": {
        "colab": {
          "base_uri": "https://localhost:8080/"
        },
        "id": "TKRkwDbfckCK",
        "outputId": "363f93d3-90f7-46ca-9e85-c538dfd0d298"
      },
      "execution_count": null,
      "outputs": [
        {
          "output_type": "stream",
          "name": "stdout",
          "text": [
            "{'name': 'Bob', 'city': 'New York'}\n"
          ]
        }
      ]
    },
    {
      "cell_type": "code",
      "source": [
        "# Q25.  Write a code to check if the key \"city\" exists in the dictionary {'name': 'Alice', 'city': 'Paris'}.\n",
        "person = {'name': 'Alice', 'city': 'Paris'}\n",
        "print(\"city\"in person)\n"
      ],
      "metadata": {
        "colab": {
          "base_uri": "https://localhost:8080/"
        },
        "id": "L9b840ZodmFU",
        "outputId": "df732a4c-21bf-4d33-c195-a19ebe279b40"
      },
      "execution_count": null,
      "outputs": [
        {
          "output_type": "stream",
          "name": "stdout",
          "text": [
            "True\n"
          ]
        }
      ]
    },
    {
      "cell_type": "code",
      "source": [
        "# Q26. Write a code to create a list, a tuple, and a dictionary, and print them all.\n",
        "# Creating a list\n",
        "my_list = [1, 2, 3]\n",
        "\n",
        "# Creating a tuple\n",
        "my_tuple = (\"apple\", \"banana\", \"cherry\")\n",
        "\n",
        "# Creating a dictionary\n",
        "my_dict = {\"name\": \"Alice\", \"age\": 25}\n",
        "\n",
        "print(\"List:\", my_list)\n",
        "print(\"Tuple:\", my_tuple)\n",
        "print(\"Dictionary:\", my_dict)\n"
      ],
      "metadata": {
        "colab": {
          "base_uri": "https://localhost:8080/"
        },
        "id": "Xhe_QnTKecNj",
        "outputId": "1207562f-616f-48fb-f92d-2efc8ecbaff4"
      },
      "execution_count": null,
      "outputs": [
        {
          "output_type": "stream",
          "name": "stdout",
          "text": [
            "List: [1, 2, 3]\n",
            "Tuple: ('apple', 'banana', 'cherry')\n",
            "Dictionary: {'name': 'Alice', 'age': 25}\n"
          ]
        }
      ]
    },
    {
      "cell_type": "code",
      "source": [
        "# Q27. Write a code to create a list of 5 random numbers between 1 and 100, sort it in ascending order, and print the result.(replaced)\n",
        "import random\n",
        "\n",
        "numbers = random.sample(range(1, 101), 5)\n",
        "numbers.sort()\n",
        "print(numbers)\n"
      ],
      "metadata": {
        "colab": {
          "base_uri": "https://localhost:8080/"
        },
        "id": "mxtvQ_aOfQEe",
        "outputId": "75e4f827-b4a5-4ec9-e18d-8b3e4a62337d"
      },
      "execution_count": null,
      "outputs": [
        {
          "output_type": "stream",
          "name": "stdout",
          "text": [
            "[4, 29, 56, 77, 91]\n"
          ]
        }
      ]
    },
    {
      "cell_type": "code",
      "source": [
        "# Q28. Write a code to create a list with strings and print the element at the third index\n",
        "fruits = [\"apple\", \"banana\", \"cherry\", \"orange\", \"grape\"]\n",
        "print(fruits[3])\n"
      ],
      "metadata": {
        "colab": {
          "base_uri": "https://localhost:8080/"
        },
        "id": "A_ydXZVYf-so",
        "outputId": "76d88245-0340-473e-c6df-916a7e955a2d"
      },
      "execution_count": null,
      "outputs": [
        {
          "output_type": "stream",
          "name": "stdout",
          "text": [
            "orange\n"
          ]
        }
      ]
    },
    {
      "cell_type": "code",
      "source": [
        "# Q29. Write a code to combine two dictionaries into one and print the result.\n",
        "dict1 = {\"a\": 1, \"b\": 2}\n",
        "dict2 = {\"c\": 3, \"d\": 4}\n",
        "combine = {**dict1, **dict2}\n",
        "print(combine)"
      ],
      "metadata": {
        "colab": {
          "base_uri": "https://localhost:8080/"
        },
        "id": "c-Xt6yeYgU7r",
        "outputId": "13d9416a-565b-4777-cae1-c37d323886e4"
      },
      "execution_count": null,
      "outputs": [
        {
          "output_type": "stream",
          "name": "stdout",
          "text": [
            "{'a': 1, 'b': 2, 'c': 3, 'd': 4}\n"
          ]
        }
      ]
    },
    {
      "cell_type": "code",
      "source": [
        "# Q30. Write a code to convert a list of strings into a set.\n",
        "a = [\"apple\", \"banana\",\"cherry\"]\n",
        "b = set(a)\n",
        "print(b)"
      ],
      "metadata": {
        "colab": {
          "base_uri": "https://localhost:8080/"
        },
        "id": "HVnb6pmxhREr",
        "outputId": "2d233404-1343-4eb4-eef3-4c12c5b01837"
      },
      "execution_count": 1,
      "outputs": [
        {
          "output_type": "stream",
          "name": "stdout",
          "text": [
            "{'apple', 'cherry', 'banana'}\n"
          ]
        }
      ]
    }
  ]
}